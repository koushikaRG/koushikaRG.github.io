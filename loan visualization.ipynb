{
 "cells": [
  {
   "cell_type": "markdown",
   "id": "3cbf1a5d",
   "metadata": {
    "papermill": {
     "duration": 0.007695,
     "end_time": "2022-09-21T01:09:51.074218",
     "exception": false,
     "start_time": "2022-09-21T01:09:51.066523",
     "status": "completed"
    },
    "tags": []
   },
   "source": [
    "**This notebook is an exercise in the [Data Visualization](https://www.kaggle.com/learn/data-visualization) course.  You can reference the tutorial at [this link](https://www.kaggle.com/alexisbcook/final-project).**\n",
    "\n",
    "---\n"
   ]
  },
  {
   "cell_type": "markdown",
   "id": "8e7a6394",
   "metadata": {
    "papermill": {
     "duration": 0.00603,
     "end_time": "2022-09-21T01:09:51.086657",
     "exception": false,
     "start_time": "2022-09-21T01:09:51.080627",
     "status": "completed"
    },
    "tags": []
   },
   "source": [
    "Now it's time for you to demonstrate your new skills with a project of your own!\n",
    "\n",
    "In this exercise, you will work with a dataset of your choosing.  Once you've selected a dataset, you'll design and create your own plot to tell interesting stories behind the data!\n",
    "\n",
    "## Setup\n",
    "\n",
    "Run the next cell to import and configure the Python libraries that you need to complete the exercise."
   ]
  },
  {
   "cell_type": "code",
   "execution_count": 1,
   "id": "1a713994",
   "metadata": {
    "execution": {
     "iopub.execute_input": "2022-09-21T01:09:51.101203Z",
     "iopub.status.busy": "2022-09-21T01:09:51.100442Z",
     "iopub.status.idle": "2022-09-21T01:09:52.062015Z",
     "shell.execute_reply": "2022-09-21T01:09:52.060838Z"
    },
    "papermill": {
     "duration": 0.972153,
     "end_time": "2022-09-21T01:09:52.064951",
     "exception": false,
     "start_time": "2022-09-21T01:09:51.092798",
     "status": "completed"
    },
    "tags": []
   },
   "outputs": [
    {
     "name": "stdout",
     "output_type": "stream",
     "text": [
      "Setup Complete\n"
     ]
    }
   ],
   "source": [
    "import pandas as pd\n",
    "pd.plotting.register_matplotlib_converters()\n",
    "import matplotlib.pyplot as plt\n",
    "%matplotlib inline\n",
    "import seaborn as sns\n",
    "print(\"Setup Complete\")"
   ]
  },
  {
   "cell_type": "markdown",
   "id": "bfe8a4c5",
   "metadata": {
    "papermill": {
     "duration": 0.006087,
     "end_time": "2022-09-21T01:09:52.077655",
     "exception": false,
     "start_time": "2022-09-21T01:09:52.071568",
     "status": "completed"
    },
    "tags": []
   },
   "source": [
    "The questions below will give you feedback on your work. Run the following cell to set up the feedback system."
   ]
  },
  {
   "cell_type": "code",
   "execution_count": 2,
   "id": "b032bd1e",
   "metadata": {
    "execution": {
     "iopub.execute_input": "2022-09-21T01:09:52.091850Z",
     "iopub.status.busy": "2022-09-21T01:09:52.091463Z",
     "iopub.status.idle": "2022-09-21T01:09:52.125305Z",
     "shell.execute_reply": "2022-09-21T01:09:52.124052Z"
    },
    "papermill": {
     "duration": 0.043909,
     "end_time": "2022-09-21T01:09:52.127783",
     "exception": false,
     "start_time": "2022-09-21T01:09:52.083874",
     "status": "completed"
    },
    "tags": []
   },
   "outputs": [
    {
     "name": "stdout",
     "output_type": "stream",
     "text": [
      "Setup Complete\n"
     ]
    }
   ],
   "source": [
    "# Set up code checking\n",
    "from learntools.core import binder\n",
    "binder.bind(globals())\n",
    "from learntools.data_viz_to_coder.ex7 import *\n",
    "print(\"Setup Complete\")"
   ]
  },
  {
   "cell_type": "markdown",
   "id": "e1fc87cf",
   "metadata": {
    "papermill": {
     "duration": 0.005998,
     "end_time": "2022-09-21T01:09:52.140303",
     "exception": false,
     "start_time": "2022-09-21T01:09:52.134305",
     "status": "completed"
    },
    "tags": []
   },
   "source": [
    "## Step 1: Attach a dataset to the notebook\n",
    "\n",
    "Begin by selecting a CSV dataset from [Kaggle Datasets](https://www.kaggle.com/datasets).  If you're unsure how to do this, please revisit the instructions in the previous tutorial.\n",
    "\n",
    "Once you have selected a dataset, click on the **[+ Add data]** option in the top right corner.  This will generate a pop-up window that you can use to search for your chosen dataset.  \n",
    "\n",
    "![ex6_search_dataset](https://i.imgur.com/cIIWPUS.png)\n",
    "\n",
    "Once you have found the dataset, click on the **[Add]** button to attach it to the notebook.  You can check that it was successful by looking at the **Data** dropdown menu to the right of the notebook -- look for an **input** folder containing a subfolder that matches the name of the dataset.\n",
    "\n",
    "<center>\n",
    "<img src=\"https://i.imgur.com/nMYc1Nu.png\" width=30%><br/>\n",
    "</center>\n",
    "\n",
    "You can click on the carat to the left of the name of the dataset to double-check that it contains a CSV file.  For instance, the image below shows that the example dataset contains two CSV files: (1) **dc-wikia-data.csv**, and (2) **marvel-wikia-data.csv**.\n",
    "\n",
    "<center>\n",
    "<img src=\"https://i.imgur.com/B4sJkVA.png\" width=30%><br/>\n",
    "</center>\n",
    "\n",
    "Once you've uploaded a dataset with a CSV file, run the code cell below **without changes** to receive credit for your work!"
   ]
  },
  {
   "cell_type": "code",
   "execution_count": 3,
   "id": "a828543e",
   "metadata": {
    "execution": {
     "iopub.execute_input": "2022-09-21T01:09:52.154948Z",
     "iopub.status.busy": "2022-09-21T01:09:52.154051Z",
     "iopub.status.idle": "2022-09-21T01:09:52.171042Z",
     "shell.execute_reply": "2022-09-21T01:09:52.169874Z"
    },
    "papermill": {
     "duration": 0.026732,
     "end_time": "2022-09-21T01:09:52.173327",
     "exception": false,
     "start_time": "2022-09-21T01:09:52.146595",
     "status": "completed"
    },
    "tags": []
   },
   "outputs": [
    {
     "data": {
      "application/javascript": [
       "parent.postMessage({\"jupyterEvent\": \"custom.exercise_interaction\", \"data\": {\"outcomeType\": 1, \"valueTowardsCompletion\": 0.25, \"interactionType\": 1, \"questionType\": 2, \"questionId\": \"1_AttachData\", \"learnToolsVersion\": \"0.3.4\", \"failureMessage\": \"\", \"exceptionClass\": \"\", \"trace\": \"\"}}, \"*\")"
      ],
      "text/plain": [
       "<IPython.core.display.Javascript object>"
      ]
     },
     "metadata": {},
     "output_type": "display_data"
    },
    {
     "data": {
      "text/markdown": [
       "<span style=\"color:#33cc33\">Correct:</span> \n",
       "\n"
      ],
      "text/plain": [
       "Correct: \n"
      ]
     },
     "metadata": {},
     "output_type": "display_data"
    }
   ],
   "source": [
    "# Check for a dataset with a CSV file\n",
    "step_1.check()"
   ]
  },
  {
   "cell_type": "markdown",
   "id": "7233c004",
   "metadata": {
    "papermill": {
     "duration": 0.006317,
     "end_time": "2022-09-21T01:09:52.186393",
     "exception": false,
     "start_time": "2022-09-21T01:09:52.180076",
     "status": "completed"
    },
    "tags": []
   },
   "source": [
    "## Step 2: Specify the filepath\n",
    "\n",
    "Now that the dataset is attached to the notebook, you can find its filepath.  To do this, begin by clicking on the CSV file you'd like to use.  This will open the CSV file in a tab below the notebook.  You can find the filepath towards the top of this new tab.  \n",
    "\n",
    "![ex6_filepath](https://i.imgur.com/fgXQV47.png)\n",
    "\n",
    "After you find the filepath corresponding to your dataset, fill it in as the value for `my_filepath` in the code cell below, and run the code cell to check that you've provided a valid filepath.  For instance, in the case of this example dataset, we would set\n",
    "```\n",
    "my_filepath = \"../input/fivethirtyeight-comic-characters-dataset/dc-wikia-data.csv\"\n",
    "```  \n",
    "Note that **you must enclose the filepath in quotation marks**; otherwise, the code will return an error.\n",
    "\n",
    "Once you've entered the filepath, you can close the tab below the notebook by clicking on the **[X]** at the top of the tab."
   ]
  },
  {
   "cell_type": "code",
   "execution_count": 4,
   "id": "e1e3ef21",
   "metadata": {
    "execution": {
     "iopub.execute_input": "2022-09-21T01:09:52.200866Z",
     "iopub.status.busy": "2022-09-21T01:09:52.200495Z",
     "iopub.status.idle": "2022-09-21T01:09:52.209041Z",
     "shell.execute_reply": "2022-09-21T01:09:52.207968Z"
    },
    "papermill": {
     "duration": 0.018562,
     "end_time": "2022-09-21T01:09:52.211363",
     "exception": false,
     "start_time": "2022-09-21T01:09:52.192801",
     "status": "completed"
    },
    "tags": []
   },
   "outputs": [
    {
     "data": {
      "application/javascript": [
       "parent.postMessage({\"jupyterEvent\": \"custom.exercise_interaction\", \"data\": {\"outcomeType\": 1, \"valueTowardsCompletion\": 0.25, \"interactionType\": 1, \"questionType\": 2, \"questionId\": \"2_Filepath\", \"learnToolsVersion\": \"0.3.4\", \"failureMessage\": \"\", \"exceptionClass\": \"\", \"trace\": \"\"}}, \"*\")"
      ],
      "text/plain": [
       "<IPython.core.display.Javascript object>"
      ]
     },
     "metadata": {},
     "output_type": "display_data"
    },
    {
     "data": {
      "text/markdown": [
       "<span style=\"color:#33cc33\">Correct:</span> \n",
       "\n"
      ],
      "text/plain": [
       "Correct: \n"
      ]
     },
     "metadata": {},
     "output_type": "display_data"
    }
   ],
   "source": [
    "# Fill in the line below: Specify the path of the CSV file to read\n",
    "my_filepath = \"../input/loan-predication/train_u6lujuX_CVtuZ9i (1).csv\"\n",
    "\n",
    "# Check for a valid filepath to a CSV file in a dataset\n",
    "step_2.check()"
   ]
  },
  {
   "cell_type": "markdown",
   "id": "67d3b79e",
   "metadata": {
    "papermill": {
     "duration": 0.006778,
     "end_time": "2022-09-21T01:09:52.225048",
     "exception": false,
     "start_time": "2022-09-21T01:09:52.218270",
     "status": "completed"
    },
    "tags": []
   },
   "source": [
    "## Step 3: Load the data\n",
    "\n",
    "Use the next code cell to load your data file into `my_data`.  Use the filepath that you specified in the previous step."
   ]
  },
  {
   "cell_type": "code",
   "execution_count": 5,
   "id": "95328027",
   "metadata": {
    "execution": {
     "iopub.execute_input": "2022-09-21T01:09:52.240778Z",
     "iopub.status.busy": "2022-09-21T01:09:52.239801Z",
     "iopub.status.idle": "2022-09-21T01:09:52.262052Z",
     "shell.execute_reply": "2022-09-21T01:09:52.261275Z"
    },
    "papermill": {
     "duration": 0.032323,
     "end_time": "2022-09-21T01:09:52.264158",
     "exception": false,
     "start_time": "2022-09-21T01:09:52.231835",
     "status": "completed"
    },
    "tags": []
   },
   "outputs": [
    {
     "data": {
      "application/javascript": [
       "parent.postMessage({\"jupyterEvent\": \"custom.exercise_interaction\", \"data\": {\"outcomeType\": 4, \"interactionType\": 1, \"questionType\": 2, \"questionId\": \"3_LoadData\", \"learnToolsVersion\": \"0.3.4\", \"valueTowardsCompletion\": 0.0, \"failureMessage\": \"\", \"exceptionClass\": \"\", \"trace\": \"\"}}, \"*\")"
      ],
      "text/plain": [
       "<IPython.core.display.Javascript object>"
      ]
     },
     "metadata": {},
     "output_type": "display_data"
    },
    {
     "data": {
      "text/markdown": [
       "<span style=\"color:#ccaa33\">Check:</span> When you've updated the starter code, `check()` will tell you whether your code is correct. Remember, you must create the following variable: `my_data`"
      ],
      "text/plain": [
       "Check: When you've updated the starter code, `check()` will tell you whether your code is correct. Remember, you must create the following variable: `my_data`"
      ]
     },
     "metadata": {},
     "output_type": "display_data"
    }
   ],
   "source": [
    "# Fill in the line below: Read the file into a variable my_data\n",
    "df = pd.read_csv(my_filepath)\n",
    "\n",
    "# Check that a dataset has been uploaded into my_data\n",
    "step_3.check()"
   ]
  },
  {
   "cell_type": "markdown",
   "id": "08f733d9",
   "metadata": {
    "papermill": {
     "duration": 0.00683,
     "end_time": "2022-09-21T01:09:52.279210",
     "exception": false,
     "start_time": "2022-09-21T01:09:52.272380",
     "status": "completed"
    },
    "tags": []
   },
   "source": [
    "**_After the code cell above is marked correct_**, run the code cell below without changes to view the first five rows of the data."
   ]
  },
  {
   "cell_type": "code",
   "execution_count": 6,
   "id": "3897fcd4",
   "metadata": {
    "execution": {
     "iopub.execute_input": "2022-09-21T01:09:52.294934Z",
     "iopub.status.busy": "2022-09-21T01:09:52.294524Z",
     "iopub.status.idle": "2022-09-21T01:09:52.318775Z",
     "shell.execute_reply": "2022-09-21T01:09:52.317722Z"
    },
    "papermill": {
     "duration": 0.034963,
     "end_time": "2022-09-21T01:09:52.321242",
     "exception": false,
     "start_time": "2022-09-21T01:09:52.286279",
     "status": "completed"
    },
    "tags": []
   },
   "outputs": [
    {
     "data": {
      "text/html": [
       "<div>\n",
       "<style scoped>\n",
       "    .dataframe tbody tr th:only-of-type {\n",
       "        vertical-align: middle;\n",
       "    }\n",
       "\n",
       "    .dataframe tbody tr th {\n",
       "        vertical-align: top;\n",
       "    }\n",
       "\n",
       "    .dataframe thead th {\n",
       "        text-align: right;\n",
       "    }\n",
       "</style>\n",
       "<table border=\"1\" class=\"dataframe\">\n",
       "  <thead>\n",
       "    <tr style=\"text-align: right;\">\n",
       "      <th></th>\n",
       "      <th>Loan_ID</th>\n",
       "      <th>Gender</th>\n",
       "      <th>Married</th>\n",
       "      <th>Dependents</th>\n",
       "      <th>Education</th>\n",
       "      <th>Self_Employed</th>\n",
       "      <th>ApplicantIncome</th>\n",
       "      <th>CoapplicantIncome</th>\n",
       "      <th>LoanAmount</th>\n",
       "      <th>Loan_Amount_Term</th>\n",
       "      <th>Credit_History</th>\n",
       "      <th>Property_Area</th>\n",
       "      <th>Loan_Status</th>\n",
       "    </tr>\n",
       "  </thead>\n",
       "  <tbody>\n",
       "    <tr>\n",
       "      <th>0</th>\n",
       "      <td>LP001002</td>\n",
       "      <td>Male</td>\n",
       "      <td>No</td>\n",
       "      <td>0</td>\n",
       "      <td>Graduate</td>\n",
       "      <td>No</td>\n",
       "      <td>5849</td>\n",
       "      <td>0.0</td>\n",
       "      <td>NaN</td>\n",
       "      <td>360.0</td>\n",
       "      <td>1.0</td>\n",
       "      <td>Urban</td>\n",
       "      <td>Y</td>\n",
       "    </tr>\n",
       "    <tr>\n",
       "      <th>1</th>\n",
       "      <td>LP001003</td>\n",
       "      <td>Male</td>\n",
       "      <td>Yes</td>\n",
       "      <td>1</td>\n",
       "      <td>Graduate</td>\n",
       "      <td>No</td>\n",
       "      <td>4583</td>\n",
       "      <td>1508.0</td>\n",
       "      <td>128.0</td>\n",
       "      <td>360.0</td>\n",
       "      <td>1.0</td>\n",
       "      <td>Rural</td>\n",
       "      <td>N</td>\n",
       "    </tr>\n",
       "    <tr>\n",
       "      <th>2</th>\n",
       "      <td>LP001005</td>\n",
       "      <td>Male</td>\n",
       "      <td>Yes</td>\n",
       "      <td>0</td>\n",
       "      <td>Graduate</td>\n",
       "      <td>Yes</td>\n",
       "      <td>3000</td>\n",
       "      <td>0.0</td>\n",
       "      <td>66.0</td>\n",
       "      <td>360.0</td>\n",
       "      <td>1.0</td>\n",
       "      <td>Urban</td>\n",
       "      <td>Y</td>\n",
       "    </tr>\n",
       "    <tr>\n",
       "      <th>3</th>\n",
       "      <td>LP001006</td>\n",
       "      <td>Male</td>\n",
       "      <td>Yes</td>\n",
       "      <td>0</td>\n",
       "      <td>Not Graduate</td>\n",
       "      <td>No</td>\n",
       "      <td>2583</td>\n",
       "      <td>2358.0</td>\n",
       "      <td>120.0</td>\n",
       "      <td>360.0</td>\n",
       "      <td>1.0</td>\n",
       "      <td>Urban</td>\n",
       "      <td>Y</td>\n",
       "    </tr>\n",
       "    <tr>\n",
       "      <th>4</th>\n",
       "      <td>LP001008</td>\n",
       "      <td>Male</td>\n",
       "      <td>No</td>\n",
       "      <td>0</td>\n",
       "      <td>Graduate</td>\n",
       "      <td>No</td>\n",
       "      <td>6000</td>\n",
       "      <td>0.0</td>\n",
       "      <td>141.0</td>\n",
       "      <td>360.0</td>\n",
       "      <td>1.0</td>\n",
       "      <td>Urban</td>\n",
       "      <td>Y</td>\n",
       "    </tr>\n",
       "  </tbody>\n",
       "</table>\n",
       "</div>"
      ],
      "text/plain": [
       "    Loan_ID Gender Married Dependents     Education Self_Employed  \\\n",
       "0  LP001002   Male      No          0      Graduate            No   \n",
       "1  LP001003   Male     Yes          1      Graduate            No   \n",
       "2  LP001005   Male     Yes          0      Graduate           Yes   \n",
       "3  LP001006   Male     Yes          0  Not Graduate            No   \n",
       "4  LP001008   Male      No          0      Graduate            No   \n",
       "\n",
       "   ApplicantIncome  CoapplicantIncome  LoanAmount  Loan_Amount_Term  \\\n",
       "0             5849                0.0         NaN             360.0   \n",
       "1             4583             1508.0       128.0             360.0   \n",
       "2             3000                0.0        66.0             360.0   \n",
       "3             2583             2358.0       120.0             360.0   \n",
       "4             6000                0.0       141.0             360.0   \n",
       "\n",
       "   Credit_History Property_Area Loan_Status  \n",
       "0             1.0         Urban           Y  \n",
       "1             1.0         Rural           N  \n",
       "2             1.0         Urban           Y  \n",
       "3             1.0         Urban           Y  \n",
       "4             1.0         Urban           Y  "
      ]
     },
     "execution_count": 6,
     "metadata": {},
     "output_type": "execute_result"
    }
   ],
   "source": [
    "# Print the first five rows of the data\n",
    "df.head()"
   ]
  },
  {
   "cell_type": "markdown",
   "id": "77bb9120",
   "metadata": {
    "papermill": {
     "duration": 0.007149,
     "end_time": "2022-09-21T01:09:52.336127",
     "exception": false,
     "start_time": "2022-09-21T01:09:52.328978",
     "status": "completed"
    },
    "tags": []
   },
   "source": [
    "## Step 4: Visualize the data\n",
    "\n",
    "Use the next code cell to create a figure that tells a story behind your dataset.  You can use any chart type (_line chart, bar chart, heatmap, etc_) of your choosing!"
   ]
  },
  {
   "cell_type": "code",
   "execution_count": 7,
   "id": "2e449e2b",
   "metadata": {
    "execution": {
     "iopub.execute_input": "2022-09-21T01:09:52.352323Z",
     "iopub.status.busy": "2022-09-21T01:09:52.351911Z",
     "iopub.status.idle": "2022-09-21T01:09:52.568412Z",
     "shell.execute_reply": "2022-09-21T01:09:52.567227Z"
    },
    "papermill": {
     "duration": 0.22764,
     "end_time": "2022-09-21T01:09:52.570940",
     "exception": false,
     "start_time": "2022-09-21T01:09:52.343300",
     "status": "completed"
    },
    "tags": []
   },
   "outputs": [
    {
     "data": {
      "application/javascript": [
       "parent.postMessage({\"jupyterEvent\": \"custom.exercise_interaction\", \"data\": {\"outcomeType\": 1, \"valueTowardsCompletion\": 0.25, \"interactionType\": 1, \"questionType\": 2, \"questionId\": \"4_CreatePlot\", \"learnToolsVersion\": \"0.3.4\", \"failureMessage\": \"\", \"exceptionClass\": \"\", \"trace\": \"\"}}, \"*\")"
      ],
      "text/plain": [
       "<IPython.core.display.Javascript object>"
      ]
     },
     "metadata": {},
     "output_type": "display_data"
    },
    {
     "data": {
      "text/markdown": [
       "<span style=\"color:#33cc33\">Correct:</span> \n",
       "\n"
      ],
      "text/plain": [
       "Correct: \n"
      ]
     },
     "metadata": {},
     "output_type": "display_data"
    },
    {
     "data": {
      "image/png": "[encoded data removed]",
      "text/plain": [
       "<Figure size 432x288 with 1 Axes>"
      ]
     },
     "metadata": {
      "needs_background": "light"
     },
     "output_type": "display_data"
    }
   ],
   "source": [
    "import warnings\n",
    "warnings.filterwarnings(\"ignore\")\n",
    "df.columns\n",
    "Index=(['Gender', 'Married', 'Dependents', 'Education', 'Self_Employed',\n",
    "       'ApplicantIncome', 'CoapplicantIncome', 'LoanAmount',\n",
    "       'Loan_Amount_Term', 'Credit_History', 'Property_Area', 'Loan_Status'])\n",
    "sns.countplot(df['Married'])\n",
    "step_4.check()"
   ]
  },
  {
   "cell_type": "code",
   "execution_count": 8,
   "id": "4e457f0d",
   "metadata": {
    "execution": {
     "iopub.execute_input": "2022-09-21T01:09:52.592831Z",
     "iopub.status.busy": "2022-09-21T01:09:52.591585Z",
     "iopub.status.idle": "2022-09-21T01:09:52.759546Z",
     "shell.execute_reply": "2022-09-21T01:09:52.758580Z"
    },
    "papermill": {
     "duration": 0.180425,
     "end_time": "2022-09-21T01:09:52.761935",
     "exception": false,
     "start_time": "2022-09-21T01:09:52.581510",
     "status": "completed"
    },
    "tags": []
   },
   "outputs": [
    {
     "data": {
      "application/javascript": [
       "parent.postMessage({\"jupyterEvent\": \"custom.exercise_interaction\", \"data\": {\"outcomeType\": 1, \"valueTowardsCompletion\": 0.25, \"interactionType\": 1, \"questionType\": 2, \"questionId\": \"4_CreatePlot\", \"learnToolsVersion\": \"0.3.4\", \"failureMessage\": \"\", \"exceptionClass\": \"\", \"trace\": \"\"}}, \"*\")"
      ],
      "text/plain": [
       "<IPython.core.display.Javascript object>"
      ]
     },
     "metadata": {},
     "output_type": "display_data"
    },
    {
     "data": {
      "text/markdown": [
       "<span style=\"color:#33cc33\">Correct:</span> \n",
       "\n"
      ],
      "text/plain": [
       "Correct: \n"
      ]
     },
     "metadata": {},
     "output_type": "display_data"
    },
    {
     "data": {
      "image/png": "[encoded data removed]",
      "text/plain": [
       "<Figure size 432x288 with 1 Axes>"
      ]
     },
     "metadata": {
      "needs_background": "light"
     },
     "output_type": "display_data"
    }
   ],
   "source": [
    "sns.countplot(df['Gender'])\n",
    "step_4.check()"
   ]
  },
  {
   "cell_type": "code",
   "execution_count": 9,
   "id": "90c3a610",
   "metadata": {
    "execution": {
     "iopub.execute_input": "2022-09-21T01:09:52.781905Z",
     "iopub.status.busy": "2022-09-21T01:09:52.780779Z",
     "iopub.status.idle": "2022-09-21T01:09:52.940764Z",
     "shell.execute_reply": "2022-09-21T01:09:52.939576Z"
    },
    "papermill": {
     "duration": 0.17295,
     "end_time": "2022-09-21T01:09:52.943742",
     "exception": false,
     "start_time": "2022-09-21T01:09:52.770792",
     "status": "completed"
    },
    "tags": []
   },
   "outputs": [
    {
     "data": {
      "application/javascript": [
       "parent.postMessage({\"jupyterEvent\": \"custom.exercise_interaction\", \"data\": {\"outcomeType\": 1, \"valueTowardsCompletion\": 0.25, \"interactionType\": 1, \"questionType\": 2, \"questionId\": \"4_CreatePlot\", \"learnToolsVersion\": \"0.3.4\", \"failureMessage\": \"\", \"exceptionClass\": \"\", \"trace\": \"\"}}, \"*\")"
      ],
      "text/plain": [
       "<IPython.core.display.Javascript object>"
      ]
     },
     "metadata": {},
     "output_type": "display_data"
    },
    {
     "data": {
      "text/markdown": [
       "<span style=\"color:#33cc33\">Correct:</span> \n",
       "\n"
      ],
      "text/plain": [
       "Correct: \n"
      ]
     },
     "metadata": {},
     "output_type": "display_data"
    },
    {
     "data": {
      "image/png": "[encoded data removed]",
      "text/plain": [
       "<Figure size 432x288 with 1 Axes>"
      ]
     },
     "metadata": {
      "needs_background": "light"
     },
     "output_type": "display_data"
    }
   ],
   "source": [
    "sns.countplot(df['Education'])\n",
    "step_4.check()"
   ]
  },
  {
   "cell_type": "code",
   "execution_count": 10,
   "id": "662ebe78",
   "metadata": {
    "execution": {
     "iopub.execute_input": "2022-09-21T01:09:52.964928Z",
     "iopub.status.busy": "2022-09-21T01:09:52.964424Z",
     "iopub.status.idle": "2022-09-21T01:09:53.129941Z",
     "shell.execute_reply": "2022-09-21T01:09:53.128765Z"
    },
    "papermill": {
     "duration": 0.179828,
     "end_time": "2022-09-21T01:09:53.132501",
     "exception": false,
     "start_time": "2022-09-21T01:09:52.952673",
     "status": "completed"
    },
    "tags": []
   },
   "outputs": [
    {
     "data": {
      "application/javascript": [
       "parent.postMessage({\"jupyterEvent\": \"custom.exercise_interaction\", \"data\": {\"outcomeType\": 1, \"valueTowardsCompletion\": 0.25, \"interactionType\": 1, \"questionType\": 2, \"questionId\": \"4_CreatePlot\", \"learnToolsVersion\": \"0.3.4\", \"failureMessage\": \"\", \"exceptionClass\": \"\", \"trace\": \"\"}}, \"*\")"
      ],
      "text/plain": [
       "<IPython.core.display.Javascript object>"
      ]
     },
     "metadata": {},
     "output_type": "display_data"
    },
    {
     "data": {
      "text/markdown": [
       "<span style=\"color:#33cc33\">Correct:</span> \n",
       "\n"
      ],
      "text/plain": [
       "Correct: \n"
      ]
     },
     "metadata": {},
     "output_type": "display_data"
    },
    {
     "data": {
      "image/png": "[encoded data removed]",
      "text/plain": [
       "<Figure size 432x288 with 1 Axes>"
      ]
     },
     "metadata": {
      "needs_background": "light"
     },
     "output_type": "display_data"
    }
   ],
   "source": [
    "sns.countplot(df['Self_Employed'])\n",
    "step_4.check()"
   ]
  },
  {
   "cell_type": "code",
   "execution_count": 11,
   "id": "79ebed04",
   "metadata": {
    "execution": {
     "iopub.execute_input": "2022-09-21T01:09:53.153081Z",
     "iopub.status.busy": "2022-09-21T01:09:53.152349Z",
     "iopub.status.idle": "2022-09-21T01:09:53.387651Z",
     "shell.execute_reply": "2022-09-21T01:09:53.386868Z"
    },
    "papermill": {
     "duration": 0.248743,
     "end_time": "2022-09-21T01:09:53.390527",
     "exception": false,
     "start_time": "2022-09-21T01:09:53.141784",
     "status": "completed"
    },
    "tags": []
   },
   "outputs": [
    {
     "name": "stdout",
     "output_type": "stream",
     "text": [
      "2500    0.014658\n",
      "4583    0.009772\n",
      "6000    0.009772\n",
      "2600    0.009772\n",
      "3333    0.008143\n",
      "          ...   \n",
      "3244    0.001629\n",
      "4408    0.001629\n",
      "3917    0.001629\n",
      "3992    0.001629\n",
      "7583    0.001629\n",
      "Name: ApplicantIncome, Length: 505, dtype: float64\n"
     ]
    },
    {
     "data": {
      "application/javascript": [
       "parent.postMessage({\"jupyterEvent\": \"custom.exercise_interaction\", \"data\": {\"outcomeType\": 1, \"valueTowardsCompletion\": 0.25, \"interactionType\": 1, \"questionType\": 2, \"questionId\": \"4_CreatePlot\", \"learnToolsVersion\": \"0.3.4\", \"failureMessage\": \"\", \"exceptionClass\": \"\", \"trace\": \"\"}}, \"*\")"
      ],
      "text/plain": [
       "<IPython.core.display.Javascript object>"
      ]
     },
     "metadata": {},
     "output_type": "display_data"
    },
    {
     "data": {
      "text/markdown": [
       "<span style=\"color:#33cc33\">Correct:</span> \n",
       "\n"
      ],
      "text/plain": [
       "Correct: \n"
      ]
     },
     "metadata": {},
     "output_type": "display_data"
    },
    {
     "data": {
      "image/png": "[encoded data removed]",
      "text/plain": [
       "<Figure size 432x288 with 1 Axes>"
      ]
     },
     "metadata": {
      "needs_background": "light"
     },
     "output_type": "display_data"
    }
   ],
   "source": [
    "y=df['ApplicantIncome'].value_counts(normalize=True)\n",
    "print(y)\n",
    "sns.histplot(y)\n",
    "step_4.check()"
   ]
  },
  {
   "cell_type": "code",
   "execution_count": 12,
   "id": "f23f170c",
   "metadata": {
    "execution": {
     "iopub.execute_input": "2022-09-21T01:09:53.417676Z",
     "iopub.status.busy": "2022-09-21T01:09:53.416020Z",
     "iopub.status.idle": "2022-09-21T01:09:53.780890Z",
     "shell.execute_reply": "2022-09-21T01:09:53.779857Z"
    },
    "papermill": {
     "duration": 0.378669,
     "end_time": "2022-09-21T01:09:53.783241",
     "exception": false,
     "start_time": "2022-09-21T01:09:53.404572",
     "status": "completed"
    },
    "tags": []
   },
   "outputs": [
    {
     "data": {
      "application/javascript": [
       "parent.postMessage({\"jupyterEvent\": \"custom.exercise_interaction\", \"data\": {\"outcomeType\": 1, \"valueTowardsCompletion\": 0.25, \"interactionType\": 1, \"questionType\": 2, \"questionId\": \"4_CreatePlot\", \"learnToolsVersion\": \"0.3.4\", \"failureMessage\": \"\", \"exceptionClass\": \"\", \"trace\": \"\"}}, \"*\")"
      ],
      "text/plain": [
       "<IPython.core.display.Javascript object>"
      ]
     },
     "metadata": {},
     "output_type": "display_data"
    },
    {
     "data": {
      "text/markdown": [
       "<span style=\"color:#33cc33\">Correct:</span> \n",
       "\n"
      ],
      "text/plain": [
       "Correct: \n"
      ]
     },
     "metadata": {},
     "output_type": "display_data"
    },
    {
     "data": {
      "image/png": "[encoded data removed]",
      "text/plain": [
       "<Figure size 432x288 with 1 Axes>"
      ]
     },
     "metadata": {
      "needs_background": "light"
     },
     "output_type": "display_data"
    }
   ],
   "source": [
    "sns.regplot(y=df['ApplicantIncome'],x=df['LoanAmount'])\n",
    "plt.title(\"applicantincome vs loan amount\")\n",
    "step_4.check()\n"
   ]
  },
  {
   "cell_type": "code",
   "execution_count": 13,
   "id": "a36b1858",
   "metadata": {
    "execution": {
     "iopub.execute_input": "2022-09-21T01:09:53.806192Z",
     "iopub.status.busy": "2022-09-21T01:09:53.805795Z",
     "iopub.status.idle": "2022-09-21T01:09:54.154555Z",
     "shell.execute_reply": "2022-09-21T01:09:54.153321Z"
    },
    "papermill": {
     "duration": 0.363274,
     "end_time": "2022-09-21T01:09:54.157207",
     "exception": false,
     "start_time": "2022-09-21T01:09:53.793933",
     "status": "completed"
    },
    "tags": []
   },
   "outputs": [
    {
     "data": {
      "application/javascript": [
       "parent.postMessage({\"jupyterEvent\": \"custom.exercise_interaction\", \"data\": {\"outcomeType\": 1, \"valueTowardsCompletion\": 0.25, \"interactionType\": 1, \"questionType\": 2, \"questionId\": \"4_CreatePlot\", \"learnToolsVersion\": \"0.3.4\", \"failureMessage\": \"\", \"exceptionClass\": \"\", \"trace\": \"\"}}, \"*\")"
      ],
      "text/plain": [
       "<IPython.core.display.Javascript object>"
      ]
     },
     "metadata": {},
     "output_type": "display_data"
    },
    {
     "data": {
      "text/markdown": [
       "<span style=\"color:#33cc33\">Correct:</span> \n",
       "\n"
      ],
      "text/plain": [
       "Correct: \n"
      ]
     },
     "metadata": {},
     "output_type": "display_data"
    },
    {
     "data": {
      "image/png": "[encoded data removed]",
      "text/plain": [
       "<Figure size 432x288 with 1 Axes>"
      ]
     },
     "metadata": {
      "needs_background": "light"
     },
     "output_type": "display_data"
    },
    {
     "data": {
      "image/png": "[encoded data removed]",
      "text/plain": [
       "<Figure size 1152x360 with 1 Axes>"
      ]
     },
     "metadata": {
      "needs_background": "light"
     },
     "output_type": "display_data"
    }
   ],
   "source": [
    "sns.distplot(df['CoapplicantIncome'])\n",
    "step_4.check()\n",
    "plt.show()\n",
    "df['CoapplicantIncome'].plot.box(figsize=(16,5))\n",
    "plt.show()\n"
   ]
  },
  {
   "cell_type": "code",
   "execution_count": 14,
   "id": "0de34b22",
   "metadata": {
    "execution": {
     "iopub.execute_input": "2022-09-21T01:09:54.182026Z",
     "iopub.status.busy": "2022-09-21T01:09:54.180903Z",
     "iopub.status.idle": "2022-09-21T01:09:54.336251Z",
     "shell.execute_reply": "2022-09-21T01:09:54.335417Z"
    },
    "papermill": {
     "duration": 0.169843,
     "end_time": "2022-09-21T01:09:54.338437",
     "exception": false,
     "start_time": "2022-09-21T01:09:54.168594",
     "status": "completed"
    },
    "tags": []
   },
   "outputs": [
    {
     "data": {
      "application/javascript": [
       "parent.postMessage({\"jupyterEvent\": \"custom.exercise_interaction\", \"data\": {\"outcomeType\": 1, \"valueTowardsCompletion\": 0.25, \"interactionType\": 1, \"questionType\": 2, \"questionId\": \"4_CreatePlot\", \"learnToolsVersion\": \"0.3.4\", \"failureMessage\": \"\", \"exceptionClass\": \"\", \"trace\": \"\"}}, \"*\")"
      ],
      "text/plain": [
       "<IPython.core.display.Javascript object>"
      ]
     },
     "metadata": {},
     "output_type": "display_data"
    },
    {
     "data": {
      "text/markdown": [
       "<span style=\"color:#33cc33\">Correct:</span> \n",
       "\n"
      ],
      "text/plain": [
       "Correct: \n"
      ]
     },
     "metadata": {},
     "output_type": "display_data"
    },
    {
     "data": {
      "image/png": "[encoded data removed]",
      "text/plain": [
       "<Figure size 288x288 with 1 Axes>"
      ]
     },
     "metadata": {
      "needs_background": "light"
     },
     "output_type": "display_data"
    }
   ],
   "source": [
    "Gender=pd.crosstab(df['Gender'],df['Loan_Status'])\n",
    "Gender.div(Gender.sum(1).astype(float), axis=0).plot(kind='bar',stacked=True,figsize=(4,4))\n",
    "step_4.check()\n",
    "plt.show()\n"
   ]
  },
  {
   "cell_type": "code",
   "execution_count": 15,
   "id": "7fe9ba1e",
   "metadata": {
    "execution": {
     "iopub.execute_input": "2022-09-21T01:09:54.363450Z",
     "iopub.status.busy": "2022-09-21T01:09:54.363064Z",
     "iopub.status.idle": "2022-09-21T01:09:54.939582Z",
     "shell.execute_reply": "2022-09-21T01:09:54.938748Z"
    },
    "papermill": {
     "duration": 0.591377,
     "end_time": "2022-09-21T01:09:54.941845",
     "exception": false,
     "start_time": "2022-09-21T01:09:54.350468",
     "status": "completed"
    },
    "tags": []
   },
   "outputs": [
    {
     "data": {
      "application/javascript": [
       "parent.postMessage({\"jupyterEvent\": \"custom.exercise_interaction\", \"data\": {\"outcomeType\": 1, \"valueTowardsCompletion\": 0.25, \"interactionType\": 1, \"questionType\": 2, \"questionId\": \"4_CreatePlot\", \"learnToolsVersion\": \"0.3.4\", \"failureMessage\": \"\", \"exceptionClass\": \"\", \"trace\": \"\"}}, \"*\")"
      ],
      "text/plain": [
       "<IPython.core.display.Javascript object>"
      ]
     },
     "metadata": {},
     "output_type": "display_data"
    },
    {
     "data": {
      "text/markdown": [
       "<span style=\"color:#33cc33\">Correct:</span> \n",
       "\n"
      ],
      "text/plain": [
       "Correct: \n"
      ]
     },
     "metadata": {},
     "output_type": "display_data"
    },
    {
     "data": {
      "image/png": "[encoded data removed]",
      "text/plain": [
       "<Figure size 288x288 with 1 Axes>"
      ]
     },
     "metadata": {
      "needs_background": "light"
     },
     "output_type": "display_data"
    },
    {
     "data": {
      "application/javascript": [
       "parent.postMessage({\"jupyterEvent\": \"custom.exercise_interaction\", \"data\": {\"outcomeType\": 1, \"valueTowardsCompletion\": 0.25, \"interactionType\": 1, \"questionType\": 2, \"questionId\": \"4_CreatePlot\", \"learnToolsVersion\": \"0.3.4\", \"failureMessage\": \"\", \"exceptionClass\": \"\", \"trace\": \"\"}}, \"*\")"
      ],
      "text/plain": [
       "<IPython.core.display.Javascript object>"
      ]
     },
     "metadata": {},
     "output_type": "display_data"
    },
    {
     "data": {
      "text/markdown": [
       "<span style=\"color:#33cc33\">Correct:</span> \n",
       "\n"
      ],
      "text/plain": [
       "Correct: \n"
      ]
     },
     "metadata": {},
     "output_type": "display_data"
    },
    {
     "data": {
      "image/png": "[encoded data removed]",
      "text/plain": [
       "<Figure size 288x288 with 1 Axes>"
      ]
     },
     "metadata": {
      "needs_background": "light"
     },
     "output_type": "display_data"
    },
    {
     "data": {
      "application/javascript": [
       "parent.postMessage({\"jupyterEvent\": \"custom.exercise_interaction\", \"data\": {\"outcomeType\": 1, \"valueTowardsCompletion\": 0.25, \"interactionType\": 1, \"questionType\": 2, \"questionId\": \"4_CreatePlot\", \"learnToolsVersion\": \"0.3.4\", \"failureMessage\": \"\", \"exceptionClass\": \"\", \"trace\": \"\"}}, \"*\")"
      ],
      "text/plain": [
       "<IPython.core.display.Javascript object>"
      ]
     },
     "metadata": {},
     "output_type": "display_data"
    },
    {
     "data": {
      "text/markdown": [
       "<span style=\"color:#33cc33\">Correct:</span> \n",
       "\n"
      ],
      "text/plain": [
       "Correct: \n"
      ]
     },
     "metadata": {},
     "output_type": "display_data"
    },
    {
     "data": {
      "image/png": "[encoded data removed]",
      "text/plain": [
       "<Figure size 288x288 with 1 Axes>"
      ]
     },
     "metadata": {
      "needs_background": "light"
     },
     "output_type": "display_data"
    },
    {
     "data": {
      "application/javascript": [
       "parent.postMessage({\"jupyterEvent\": \"custom.exercise_interaction\", \"data\": {\"outcomeType\": 1, \"valueTowardsCompletion\": 0.25, \"interactionType\": 1, \"questionType\": 2, \"questionId\": \"4_CreatePlot\", \"learnToolsVersion\": \"0.3.4\", \"failureMessage\": \"\", \"exceptionClass\": \"\", \"trace\": \"\"}}, \"*\")"
      ],
      "text/plain": [
       "<IPython.core.display.Javascript object>"
      ]
     },
     "metadata": {},
     "output_type": "display_data"
    },
    {
     "data": {
      "text/markdown": [
       "<span style=\"color:#33cc33\">Correct:</span> \n",
       "\n"
      ],
      "text/plain": [
       "Correct: \n"
      ]
     },
     "metadata": {},
     "output_type": "display_data"
    },
    {
     "data": {
      "image/png": "[encoded data removed]",
      "text/plain": [
       "<Figure size 288x288 with 1 Axes>"
      ]
     },
     "metadata": {
      "needs_background": "light"
     },
     "output_type": "display_data"
    }
   ],
   "source": [
    "Married=pd.crosstab(df['Married'],df['Loan_Status'])\n",
    "Dependents=pd.crosstab(df['Dependents'],df['Loan_Status'])\n",
    "Education=pd.crosstab(df['Education'],df['Loan_Status'])\n",
    "Self_Employed=pd.crosstab(df['Self_Employed'],df['Loan_Status'])\n",
    "Married.div(Married.sum(1).astype(float), axis=0).plot(kind='bar',stacked=True,figsize=(4,4))\n",
    "step_4.check()\n",
    "plt.show()\n",
    "Dependents.div(Dependents.sum(1).astype(float), axis=0).plot(kind='bar',stacked=True,figsize=(4,4))\n",
    "step_4.check()\n",
    "plt.show()\n",
    "Education.div(Education.sum(1).astype(float), axis=0).plot(kind='bar',stacked=True,figsize=(4,4))\n",
    "step_4.check()\n",
    "plt.show()\n",
    "Self_Employed.div(Self_Employed.sum(1).astype(float), axis=0).plot(kind='bar',stacked=True,figsize=(4,4))\n",
    "step_4.check()\n",
    "plt.show()\n"
   ]
  },
  {
   "cell_type": "code",
   "execution_count": 16,
   "id": "e2590833",
   "metadata": {
    "execution": {
     "iopub.execute_input": "2022-09-21T01:09:54.970750Z",
     "iopub.status.busy": "2022-09-21T01:09:54.970080Z",
     "iopub.status.idle": "2022-09-21T01:09:55.273031Z",
     "shell.execute_reply": "2022-09-21T01:09:55.271885Z"
    },
    "papermill": {
     "duration": 0.319839,
     "end_time": "2022-09-21T01:09:55.275390",
     "exception": false,
     "start_time": "2022-09-21T01:09:54.955551",
     "status": "completed"
    },
    "tags": []
   },
   "outputs": [
    {
     "data": {
      "application/javascript": [
       "parent.postMessage({\"jupyterEvent\": \"custom.exercise_interaction\", \"data\": {\"outcomeType\": 1, \"valueTowardsCompletion\": 0.25, \"interactionType\": 1, \"questionType\": 2, \"questionId\": \"4_CreatePlot\", \"learnToolsVersion\": \"0.3.4\", \"failureMessage\": \"\", \"exceptionClass\": \"\", \"trace\": \"\"}}, \"*\")"
      ],
      "text/plain": [
       "<IPython.core.display.Javascript object>"
      ]
     },
     "metadata": {},
     "output_type": "display_data"
    },
    {
     "data": {
      "text/markdown": [
       "<span style=\"color:#33cc33\">Correct:</span> \n",
       "\n"
      ],
      "text/plain": [
       "Correct: \n"
      ]
     },
     "metadata": {},
     "output_type": "display_data"
    },
    {
     "data": {
      "image/png": "[encoded data removed]",
      "text/plain": [
       "<Figure size 288x288 with 1 Axes>"
      ]
     },
     "metadata": {
      "needs_background": "light"
     },
     "output_type": "display_data"
    },
    {
     "data": {
      "application/javascript": [
       "parent.postMessage({\"jupyterEvent\": \"custom.exercise_interaction\", \"data\": {\"outcomeType\": 1, \"valueTowardsCompletion\": 0.25, \"interactionType\": 1, \"questionType\": 2, \"questionId\": \"4_CreatePlot\", \"learnToolsVersion\": \"0.3.4\", \"failureMessage\": \"\", \"exceptionClass\": \"\", \"trace\": \"\"}}, \"*\")"
      ],
      "text/plain": [
       "<IPython.core.display.Javascript object>"
      ]
     },
     "metadata": {},
     "output_type": "display_data"
    },
    {
     "data": {
      "text/markdown": [
       "<span style=\"color:#33cc33\">Correct:</span> \n",
       "\n"
      ],
      "text/plain": [
       "Correct: \n"
      ]
     },
     "metadata": {},
     "output_type": "display_data"
    },
    {
     "data": {
      "image/png": "[encoded data removed]",
      "text/plain": [
       "<Figure size 432x288 with 1 Axes>"
      ]
     },
     "metadata": {
      "needs_background": "light"
     },
     "output_type": "display_data"
    }
   ],
   "source": [
    "Credit_History=pd.crosstab(df['Credit_History'],df['Loan_Status'])\n",
    "Property_Area=pd.crosstab(df['Property_Area'],df['Loan_Status'])\n",
    "\n",
    "Credit_History.div(Credit_History.sum(1).astype(float), axis=0).plot(kind='bar',stacked=True,figsize=(4,4))\n",
    "step_4.check()\n",
    "plt.show()\n",
    "\n",
    "Property_Area.div(Property_Area.sum(1).astype(float), axis=0).plot(kind='bar',stacked=True)\n",
    "step_4.check()\n",
    "plt.show()"
   ]
  },
  {
   "cell_type": "code",
   "execution_count": 17,
   "id": "9c94b58f",
   "metadata": {
    "execution": {
     "iopub.execute_input": "2022-09-21T01:09:55.307600Z",
     "iopub.status.busy": "2022-09-21T01:09:55.305439Z",
     "iopub.status.idle": "2022-09-21T01:09:55.316205Z",
     "shell.execute_reply": "2022-09-21T01:09:55.315404Z"
    },
    "papermill": {
     "duration": 0.028668,
     "end_time": "2022-09-21T01:09:55.318483",
     "exception": false,
     "start_time": "2022-09-21T01:09:55.289815",
     "status": "completed"
    },
    "tags": []
   },
   "outputs": [],
   "source": [
    "df=df.drop(['ApplicantIncome','CoapplicantIncome','LoanAmount'], axis=1)\n",
    "df['Dependents'].replace('3+', 3,inplace=True)\n",
    "df['Dependents'].replace('3+', 3,inplace=True)\n",
    "df['Loan_Status'].replace('N', 0,inplace=True)\n",
    "df['Loan_Status'].replace('Y', 1,inplace=True)"
   ]
  },
  {
   "cell_type": "code",
   "execution_count": 18,
   "id": "3679812b",
   "metadata": {
    "execution": {
     "iopub.execute_input": "2022-09-21T01:09:55.348513Z",
     "iopub.status.busy": "2022-09-21T01:09:55.347473Z",
     "iopub.status.idle": "2022-09-21T01:09:55.591751Z",
     "shell.execute_reply": "2022-09-21T01:09:55.590854Z"
    },
    "papermill": {
     "duration": 0.261718,
     "end_time": "2022-09-21T01:09:55.594111",
     "exception": false,
     "start_time": "2022-09-21T01:09:55.332393",
     "status": "completed"
    },
    "tags": []
   },
   "outputs": [
    {
     "data": {
      "application/javascript": [
       "parent.postMessage({\"jupyterEvent\": \"custom.exercise_interaction\", \"data\": {\"outcomeType\": 1, \"valueTowardsCompletion\": 0.25, \"interactionType\": 1, \"questionType\": 2, \"questionId\": \"4_CreatePlot\", \"learnToolsVersion\": \"0.3.4\", \"failureMessage\": \"\", \"exceptionClass\": \"\", \"trace\": \"\"}}, \"*\")"
      ],
      "text/plain": [
       "<IPython.core.display.Javascript object>"
      ]
     },
     "metadata": {},
     "output_type": "display_data"
    },
    {
     "data": {
      "text/markdown": [
       "<span style=\"color:#33cc33\">Correct:</span> \n",
       "\n"
      ],
      "text/plain": [
       "Correct: \n"
      ]
     },
     "metadata": {},
     "output_type": "display_data"
    },
    {
     "data": {
      "image/png": "[encoded data removed]",
      "text/plain": [
       "<Figure size 648x432 with 2 Axes>"
      ]
     },
     "metadata": {
      "needs_background": "light"
     },
     "output_type": "display_data"
    }
   ],
   "source": [
    "matrix = df.corr()\n",
    "f, ax = plt.subplots(figsize=(9,6))\n",
    "sns.heatmap(matrix,vmax=.8,square=True,cmap=\"BuPu\", annot = True)\n",
    "step_4.check()"
   ]
  },
  {
   "cell_type": "markdown",
   "id": "695e7493",
   "metadata": {
    "papermill": {
     "duration": 0.01444,
     "end_time": "2022-09-21T01:09:55.623463",
     "exception": false,
     "start_time": "2022-09-21T01:09:55.609023",
     "status": "completed"
    },
    "tags": []
   },
   "source": [
    "## Keep going\n",
    "\n",
    "Learn how to use your skills after completing the micro-course to create data visualizations in a **[final tutorial](https://www.kaggle.com/alexisbcook/creating-your-own-notebooks)**."
   ]
  },
  {
   "cell_type": "markdown",
   "id": "820ef78a",
   "metadata": {
    "papermill": {
     "duration": 0.014125,
     "end_time": "2022-09-21T01:09:55.652151",
     "exception": false,
     "start_time": "2022-09-21T01:09:55.638026",
     "status": "completed"
    },
    "tags": []
   },
   "source": [
    "---\n",
    "\n",
    "\n",
    "\n",
    "\n",
    "*Have questions or comments? Visit the [course discussion forum](https://www.kaggle.com/learn/data-visualization/discussion) to chat with other learners.*"
   ]
  }
 ],
 "metadata": {
  "kernelspec": {
   "display_name": "Python 3",
   "language": "python",
   "name": "python3"
  },
  "language_info": {
   "codemirror_mode": {
    "name": "ipython",
    "version": 3
   },
   "file_extension": ".py",
   "mimetype": "text/x-python",
   "name": "python",
   "nbconvert_exporter": "python",
   "pygments_lexer": "ipython3",
   "version": "3.7.12"
  },
  "papermill": {
   "default_parameters": {},
   "duration": 16.110873,
   "end_time": "2022-09-21T01:09:58.733494",
   "environment_variables": {},
   "exception": null,
   "input_path": "__notebook__.ipynb",
   "output_path": "__notebook__.ipynb",
   "parameters": {},
   "start_time": "2022-09-21T01:09:42.622621",
   "version": "2.3.4"
  }
 },
 "nbformat": 4,
 "nbformat_minor": 5
}
