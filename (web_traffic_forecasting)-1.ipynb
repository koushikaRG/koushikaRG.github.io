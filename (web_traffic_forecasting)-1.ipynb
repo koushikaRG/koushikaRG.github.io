{
  "cells": [
    {
      "cell_type": "code",
      "execution_count": null,
      "id": "af7b4982",
      "metadata": {
        "id": "af7b4982"
      },
      "outputs": [],
      "source": [
        "import pandas as pd\n",
        "import numpy as np\n"
      ]
    },
    {
      "cell_type": "markdown",
      "id": "38770f27",
      "metadata": {
        "id": "38770f27"
      },
      "source": [
        "# Reading the data"
      ]
    },
    {
      "cell_type": "code",
      "execution_count": null,
      "id": "3d063f56",
      "metadata": {
        "id": "3d063f56"
      },
      "outputs": [],
      "source": [
        "df=pd.read_csv('webtraffic.csv')\n",
        "df.head()\n"
      ]
    },
    {
      "cell_type": "code",
      "execution_count": null,
      "id": "de2ba924",
      "metadata": {
        "id": "de2ba924",
        "outputId": "7701b89a-d917-479a-8ff7-c723a75e2d95",
        "colab": {
          "base_uri": "https://localhost:8080/"
        }
      },
      "outputs": [
        {
          "output_type": "execute_result",
          "data": {
            "text/plain": [
              "(4896, 2)"
            ]
          },
          "metadata": {},
          "execution_count": 6
        }
      ],
      "source": [
        "df.shape"
      ]
    },
    {
      "cell_type": "code",
      "execution_count": null,
      "id": "f5e407b3",
      "metadata": {
        "id": "f5e407b3",
        "outputId": "bfc40459-9977-430e-ab47-44526f9cd0b8",
        "colab": {
          "base_uri": "https://localhost:8080/"
        }
      },
      "outputs": [
        {
          "output_type": "execute_result",
          "data": {
            "text/plain": [
              "<bound method DataFrame.info of       Hour Index    Sessions\n",
              "0              0  1418159421\n",
              "1              1  1113769116\n",
              "2              2   919158921\n",
              "3              3   822352824\n",
              "4              4   735526737\n",
              "...          ...         ...\n",
              "4891        4891  2555880561\n",
              "4892        4892  2454084459\n",
              "4893        4893  2405182410\n",
              "4894        4894  2356280361\n",
              "4895        4895  1987019991\n",
              "\n",
              "[4896 rows x 2 columns]>"
            ]
          },
          "metadata": {},
          "execution_count": 7
        }
      ],
      "source": [
        "df.info"
      ]
    },
    {
      "cell_type": "code",
      "execution_count": null,
      "id": "5a1be543",
      "metadata": {
        "id": "5a1be543",
        "outputId": "77a4990a-41e4-48cd-abc7-cf1866df0ad5",
        "colab": {
          "base_uri": "https://localhost:8080/",
          "height": 166
        }
      },
      "outputs": [
        {
          "output_type": "error",
          "ename": "NameError",
          "evalue": "ignored",
          "traceback": [
            "\u001b[0;31m---------------------------------------------------------------------------\u001b[0m",
            "\u001b[0;31mNameError\u001b[0m                                 Traceback (most recent call last)",
            "\u001b[0;32m<ipython-input-1-61c774354124>\u001b[0m in \u001b[0;36m<module>\u001b[0;34m\u001b[0m\n\u001b[0;32m----> 1\u001b[0;31m \u001b[0mdf\u001b[0m\u001b[0;34m.\u001b[0m\u001b[0mhead\u001b[0m\u001b[0;34m(\u001b[0m\u001b[0;36m50\u001b[0m\u001b[0;34m)\u001b[0m\u001b[0;34m\u001b[0m\u001b[0;34m\u001b[0m\u001b[0m\n\u001b[0m",
            "\u001b[0;31mNameError\u001b[0m: name 'df' is not defined"
          ]
        }
      ],
      "source": [
        "df.head(50)"
      ]
    },
    {
      "cell_type": "code",
      "execution_count": null,
      "id": "7a71cfbc",
      "metadata": {
        "id": "7a71cfbc",
        "outputId": "e16fd30e-4cbd-4f34-9562-5c37cb405d65"
      },
      "outputs": [
        {
          "data": {
            "text/plain": [
              "Hour Index    0\n",
              "Sessions      0\n",
              "dtype: int64"
            ]
          },
          "execution_count": 9,
          "metadata": {},
          "output_type": "execute_result"
        }
      ],
      "source": [
        "df.isnull().sum()"
      ]
    },
    {
      "cell_type": "markdown",
      "id": "18134226",
      "metadata": {
        "id": "18134226"
      },
      "source": [
        "## Plot Your data"
      ]
    },
    {
      "cell_type": "code",
      "execution_count": null,
      "id": "2b809eb1",
      "metadata": {
        "id": "2b809eb1"
      },
      "outputs": [],
      "source": [
        "import matplotlib.pyplot as plt\n"
      ]
    },
    {
      "cell_type": "code",
      "execution_count": null,
      "id": "d4ce8d46",
      "metadata": {
        "id": "d4ce8d46",
        "outputId": "549ed6e8-c444-4cce-aed8-384fc4d920ef",
        "colab": {
          "base_uri": "https://localhost:8080/"
        }
      },
      "outputs": [
        {
          "output_type": "execute_result",
          "data": {
            "text/plain": [
              "Index(['Hour Index', 'Sessions'], dtype='object')"
            ]
          },
          "metadata": {},
          "execution_count": 10
        }
      ],
      "source": [
        "df.columns"
      ]
    },
    {
      "cell_type": "code",
      "execution_count": null,
      "id": "32e4d8b9",
      "metadata": {
        "id": "32e4d8b9",
        "outputId": "e93e9fdf-c523-4e36-e20c-cf644b4146c9",
        "colab": {
          "base_uri": "https://localhost:8080/",
          "height": 293
        }
      },
      "outputs": [
        {
          "output_type": "execute_result",
          "data": {
            "text/plain": [
              "<matplotlib.axes._subplots.AxesSubplot at 0x7f27c39bff90>"
            ]
          },
          "metadata": {},
          "execution_count": 11
        },
        {
          "output_type": "display_data",
          "data": {
            "text/plain": [
              "<Figure size 432x288 with 1 Axes>"
            ],
            "image/png": "[encoded data removed]"
          },
          "metadata": {
            "needs_background": "light"
          }
        }
      ],
      "source": [
        "df['Sessions'].plot()\n"
      ]
    },
    {
      "cell_type": "code",
      "execution_count": null,
      "id": "2d9164e3",
      "metadata": {
        "id": "2d9164e3",
        "outputId": "bb05d793-6c98-4137-8986-c04d40cb3fef",
        "colab": {
          "base_uri": "https://localhost:8080/",
          "height": 293
        }
      },
      "outputs": [
        {
          "output_type": "execute_result",
          "data": {
            "text/plain": [
              "<matplotlib.axes._subplots.AxesSubplot at 0x7f27c38a80d0>"
            ]
          },
          "metadata": {},
          "execution_count": 12
        },
        {
          "output_type": "display_data",
          "data": {
            "text/plain": [
              "<Figure size 432x288 with 1 Axes>"
            ],
            "image/png": "[encoded data removed]"
          },
          "metadata": {
            "needs_background": "light"
          }
        }
      ],
      "source": [
        "df['Sessions'].iloc[:168].plot()"
      ]
    },
    {
      "cell_type": "markdown",
      "id": "ed773c55",
      "metadata": {
        "id": "ed773c55"
      },
      "source": [
        "## check the stationary or not"
      ]
    },
    {
      "cell_type": "code",
      "execution_count": null,
      "id": "99902223",
      "metadata": {
        "id": "99902223",
        "outputId": "94cb1f6c-8fb0-449a-9b9b-8ed4d79d264f",
        "colab": {
          "base_uri": "https://localhost:8080/"
        }
      },
      "outputs": [
        {
          "output_type": "stream",
          "name": "stdout",
          "text": [
            "2. P-Value :  3.632587067865354e-16\n",
            "\t 1% :  -3.431695415409747\n",
            "\t 5% :  -2.8621345244394583\n",
            "\t 10% :  -2.5670864667133415\n"
          ]
        }
      ],
      "source": [
        "from statsmodels.tsa.stattools import adfuller\n",
        "def ad_test(df):\n",
        "     dftest = adfuller(df, autolag = 'AIC')\n",
        "#      print(\"1. ADF : \",dftest[0])\n",
        "     print(\"2. P-Value : \", dftest[1])\n",
        "#      print(\"3. Num Of Lags : \", dftest[2])\n",
        "#      print(\"4. Num Of Observations Used For ADF Regression:\",      dftest[3])\n",
        "#      print(\"5. Critical Values :\")\n",
        "     for key, val in dftest[4].items():\n",
        "         print(\"\\t\",key, \": \", val)\n",
        "ad_test(df['Sessions'])"
      ]
    },
    {
      "cell_type": "markdown",
      "id": "f1c7cecb",
      "metadata": {
        "id": "f1c7cecb"
      },
      "source": [
        "## Bulding the model"
      ]
    },
    {
      "cell_type": "code",
      "execution_count": null,
      "id": "c624619d",
      "metadata": {
        "id": "c624619d",
        "outputId": "d172565d-cdeb-4669-bf09-0e42c0f00e82"
      },
      "outputs": [
        {
          "name": "stdout",
          "output_type": "stream",
          "text": [
            "Requirement already satisfied: pmdarima in d:\\anachonda\\lib\\site-packages (2.0.1)\n",
            "Requirement already satisfied: numpy>=1.21 in d:\\anachonda\\lib\\site-packages (from pmdarima) (1.22.4)\n",
            "Requirement already satisfied: scipy>=1.3.2 in d:\\anachonda\\lib\\site-packages (from pmdarima) (1.7.1)\n",
            "Requirement already satisfied: pandas>=0.19 in d:\\anachonda\\lib\\site-packages (from pmdarima) (1.3.4)\n",
            "Requirement already satisfied: scikit-learn>=0.22 in d:\\anachonda\\lib\\site-packages (from pmdarima) (0.24.2)\n",
            "Requirement already satisfied: urllib3 in d:\\anachonda\\lib\\site-packages (from pmdarima) (1.26.7)\n",
            "Requirement already satisfied: statsmodels>=0.13.2 in d:\\anachonda\\lib\\site-packages (from pmdarima) (0.13.2)\n",
            "Requirement already satisfied: joblib>=0.11 in d:\\anachonda\\lib\\site-packages (from pmdarima) (1.1.0)\n",
            "Requirement already satisfied: setuptools!=50.0.0,>=38.6.0 in d:\\anachonda\\lib\\site-packages (from pmdarima) (58.0.4)\n",
            "Requirement already satisfied: Cython!=0.29.18,!=0.29.31,>=0.29 in d:\\anachonda\\lib\\site-packages (from pmdarima) (0.29.24)\n",
            "Requirement already satisfied: pytz>=2017.3 in d:\\anachonda\\lib\\site-packages (from pandas>=0.19->pmdarima) (2021.3)\n",
            "Requirement already satisfied: python-dateutil>=2.7.3 in d:\\anachonda\\lib\\site-packages (from pandas>=0.19->pmdarima) (2.8.2)\n",
            "Requirement already satisfied: six>=1.5 in d:\\anachonda\\lib\\site-packages (from python-dateutil>=2.7.3->pandas>=0.19->pmdarima) (1.16.0)\n",
            "Requirement already satisfied: threadpoolctl>=2.0.0 in d:\\anachonda\\lib\\site-packages (from scikit-learn>=0.22->pmdarima) (2.2.0)\n",
            "Requirement already satisfied: patsy>=0.5.2 in d:\\anachonda\\lib\\site-packages (from statsmodels>=0.13.2->pmdarima) (0.5.2)\n",
            "Requirement already satisfied: packaging>=21.3 in d:\\anachonda\\lib\\site-packages (from statsmodels>=0.13.2->pmdarima) (21.3)\n",
            "Requirement already satisfied: pyparsing!=3.0.5,>=2.0.2 in d:\\anachonda\\lib\\site-packages (from packaging>=21.3->statsmodels>=0.13.2->pmdarima) (3.0.4)\n",
            "Note: you may need to restart the kernel to use updated packages.\n"
          ]
        }
      ],
      "source": [
        "pip install pmdarima"
      ]
    },
    {
      "cell_type": "code",
      "execution_count": null,
      "id": "c008229d",
      "metadata": {
        "id": "c008229d",
        "outputId": "3ffddea0-1264-4b8b-f968-a1c980423cae"
      },
      "outputs": [
        {
          "name": "stdout",
          "output_type": "stream",
          "text": [
            "Performing stepwise search to minimize aic\n",
            " ARIMA(2,1,2)(0,0,0)[0] intercept   : AIC=201746.479, Time=4.79 sec\n",
            " ARIMA(0,1,0)(0,0,0)[0] intercept   : AIC=203342.692, Time=0.23 sec\n",
            " ARIMA(1,1,0)(0,0,0)[0] intercept   : AIC=201817.088, Time=0.79 sec\n",
            " ARIMA(0,1,1)(0,0,0)[0] intercept   : AIC=202091.445, Time=0.74 sec\n",
            " ARIMA(0,1,0)(0,0,0)[0]             : AIC=203340.694, Time=0.21 sec\n",
            " ARIMA(1,1,2)(0,0,0)[0] intercept   : AIC=201779.582, Time=2.63 sec\n",
            " ARIMA(2,1,1)(0,0,0)[0] intercept   : AIC=201809.586, Time=5.23 sec\n",
            " ARIMA(3,1,2)(0,0,0)[0] intercept   : AIC=inf, Time=15.61 sec\n",
            " ARIMA(2,1,3)(0,0,0)[0] intercept   : AIC=201161.981, Time=4.37 sec\n",
            " ARIMA(1,1,3)(0,0,0)[0] intercept   : AIC=201505.268, Time=3.19 sec\n",
            " ARIMA(3,1,3)(0,0,0)[0] intercept   : AIC=201163.045, Time=6.56 sec\n",
            " ARIMA(2,1,4)(0,0,0)[0] intercept   : AIC=201161.086, Time=6.55 sec\n",
            " ARIMA(1,1,4)(0,0,0)[0] intercept   : AIC=201300.013, Time=4.35 sec\n",
            " ARIMA(3,1,4)(0,0,0)[0] intercept   : AIC=201159.809, Time=17.02 sec\n",
            " ARIMA(4,1,4)(0,0,0)[0] intercept   : AIC=200533.493, Time=24.55 sec\n",
            " ARIMA(4,1,3)(0,0,0)[0] intercept   : AIC=200872.012, Time=12.85 sec\n",
            " ARIMA(5,1,4)(0,0,0)[0] intercept   : AIC=200772.814, Time=10.61 sec\n",
            " ARIMA(4,1,5)(0,0,0)[0] intercept   : AIC=200365.679, Time=28.42 sec\n",
            " ARIMA(3,1,5)(0,0,0)[0] intercept   : AIC=200777.262, Time=14.93 sec\n",
            " ARIMA(5,1,5)(0,0,0)[0] intercept   : AIC=200442.594, Time=29.40 sec\n",
            " ARIMA(4,1,5)(0,0,0)[0]             : AIC=200355.963, Time=25.81 sec\n",
            " ARIMA(3,1,5)(0,0,0)[0]             : AIC=inf, Time=18.04 sec\n",
            " ARIMA(4,1,4)(0,0,0)[0]             : AIC=200534.140, Time=22.35 sec\n",
            " ARIMA(5,1,5)(0,0,0)[0]             : AIC=200458.844, Time=27.95 sec\n",
            " ARIMA(3,1,4)(0,0,0)[0]             : AIC=201157.813, Time=12.06 sec\n",
            " ARIMA(5,1,4)(0,0,0)[0]             : AIC=200770.537, Time=10.17 sec\n",
            "\n",
            "Best model:  ARIMA(4,1,5)(0,0,0)[0]          \n",
            "Total fit time: 309.441 seconds\n"
          ]
        }
      ],
      "source": [
        "from pmdarima import auto_arima\n",
        "stepwise_fit = auto_arima(df['Sessions'], trace=True,\n",
        "suppress_warnings=True)"
      ]
    },
    {
      "cell_type": "code",
      "execution_count": null,
      "id": "321b0a3a",
      "metadata": {
        "id": "321b0a3a"
      },
      "outputs": [],
      "source": [
        "\n",
        "import statsmodels.api as sm\n",
        "\n",
        "import warnings\n",
        "from statsmodels.tools.sm_exceptions import ConvergenceWarning\n",
        "warnings.simplefilter('ignore', ConvergenceWarning)\n"
      ]
    },
    {
      "cell_type": "code",
      "execution_count": null,
      "id": "fdfa2f26",
      "metadata": {
        "id": "fdfa2f26",
        "outputId": "82355c78-6dd8-4622-dc18-8a1b1a54d755",
        "colab": {
          "base_uri": "https://localhost:8080/"
        }
      },
      "outputs": [
        {
          "output_type": "stream",
          "name": "stdout",
          "text": [
            "(30, 2)\n",
            "(4866, 2)\n"
          ]
        }
      ],
      "source": [
        "train = df.iloc[:-30]\n",
        "test = df.iloc[-30:]\n",
        "print(test.shape)\n",
        "print(train.shape)"
      ]
    },
    {
      "cell_type": "code",
      "execution_count": null,
      "id": "229ee241",
      "metadata": {
        "id": "229ee241"
      },
      "outputs": [],
      "source": [
        "model = sm.tsa.arima.ARIMA(train['Sessions'], order=(4,1,5))\n",
        "result = model.fit()"
      ]
    },
    {
      "cell_type": "code",
      "execution_count": null,
      "id": "e16b28f2",
      "metadata": {
        "id": "e16b28f2"
      },
      "outputs": [],
      "source": [
        "# result.summary()"
      ]
    },
    {
      "cell_type": "code",
      "execution_count": null,
      "id": "be64a2cb",
      "metadata": {
        "id": "be64a2cb",
        "outputId": "069940fb-fb0a-4f0c-d25b-763ef4d326df",
        "colab": {
          "base_uri": "https://localhost:8080/",
          "height": 293
        }
      },
      "outputs": [
        {
          "output_type": "execute_result",
          "data": {
            "text/plain": [
              "<matplotlib.axes._subplots.AxesSubplot at 0x7f27c03fb7d0>"
            ]
          },
          "metadata": {},
          "execution_count": 17
        },
        {
          "output_type": "display_data",
          "data": {
            "text/plain": [
              "<Figure size 432x288 with 1 Axes>"
            ],
            "image/png": "[encoded data removed]"
          },
          "metadata": {
            "needs_background": "light"
          }
        }
      ],
      "source": [
        "start=len(train)\n",
        "end=len(train)+len(test)-1\n",
        "pred=result.predict(start=start,end=end,typ='levels').rename('ARIMA Predictions')\n",
        "pred.plot(legend=True)\n",
        "test['Sessions'].plot(legend=True)"
      ]
    }
  ],
  "metadata": {
    "kernelspec": {
      "display_name": "Python 3 (ipykernel)",
      "language": "python",
      "name": "python3"
    },
    "language_info": {
      "codemirror_mode": {
        "name": "ipython",
        "version": 3
      },
      "file_extension": ".py",
      "mimetype": "text/x-python",
      "name": "python",
      "nbconvert_exporter": "python",
      "pygments_lexer": "ipython3",
      "version": "3.9.7"
    },
    "colab": {
      "provenance": []
    }
  },
  "nbformat": 4,
  "nbformat_minor": 5
}